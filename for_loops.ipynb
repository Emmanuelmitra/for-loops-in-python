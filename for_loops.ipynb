{
  "nbformat": 4,
  "nbformat_minor": 0,
  "metadata": {
    "colab": {
      "name": "for loops ",
      "provenance": [],
      "authorship_tag": "ABX9TyP7OIya+7UwhtobP0wS6TBi",
      "include_colab_link": true
    },
    "kernelspec": {
      "name": "python3",
      "display_name": "Python 3"
    },
    "language_info": {
      "name": "python"
    }
  },
  "cells": [
    {
      "cell_type": "markdown",
      "metadata": {
        "id": "view-in-github",
        "colab_type": "text"
      },
      "source": [
        "<a href=\"https://colab.research.google.com/github/Emmanuelmitra/for-loops-in-python/blob/main/for_loops.ipynb\" target=\"_parent\"><img src=\"https://colab.research.google.com/assets/colab-badge.svg\" alt=\"Open In Colab\"/></a>"
      ]
    },
    {
      "cell_type": "markdown",
      "source": [
        "# For loop "
      ],
      "metadata": {
        "id": "zDnxvpvL4fOV"
      }
    },
    {
      "cell_type": "markdown",
      "source": [
        "A for loop in Python is a control flow statement that is used to repeatedly execute a group of statements as long as the condition is satisfied. Such a type of statement is also known as an iterative statement. Therefore, a for loop is an iterative statement."
      ],
      "metadata": {
        "id": "9hkz-F0E4mIi"
      }
    },
    {
      "cell_type": "code",
      "source": [
        "# 1. Write a for loop so that every item in the list is printed.\n",
        "l=['emmanuel','simon','ironman', 'superman']\n",
        "for i in l:\n",
        "  print(i)"
      ],
      "metadata": {
        "colab": {
          "base_uri": "https://localhost:8080/"
        },
        "id": "nk2dGLBg4nHm",
        "outputId": "916ac7cf-b673-4f77-f3dc-f92bf524a8ad"
      },
      "execution_count": 1,
      "outputs": [
        {
          "output_type": "stream",
          "name": "stdout",
          "text": [
            "emmanuel\n",
            "simon\n",
            "ironman\n",
            "superman\n"
          ]
        }
      ]
    },
    {
      "cell_type": "code",
      "source": [
        "# 2. Write a for loop which print \"Hello!, \" plus each name in the list. i.e.: \"Hello!, emmanuel\"\n",
        "l=['emmanuel','simon','ironman', 'superman']\n",
        "for i in l:\n",
        "  print('Hello!,'+ i)\n"
      ],
      "metadata": {
        "colab": {
          "base_uri": "https://localhost:8080/"
        },
        "id": "AT8VuKEc46ZL",
        "outputId": "e6bb41f6-ed9c-49ff-a370-fc1cc1e0f270"
      },
      "execution_count": 3,
      "outputs": [
        {
          "output_type": "stream",
          "name": "stdout",
          "text": [
            "Hello!,emmanuel\n",
            "Hello!,simon\n",
            "Hello!,ironman\n",
            "Hello!,superman\n"
          ]
        }
      ]
    },
    {
      "cell_type": "code",
      "source": [
        "# Write a for loop that iterates through a string and prints every letter.\n",
        "s='Emmanuel'\n",
        "for i in s:\n",
        "  print(i)"
      ],
      "metadata": {
        "colab": {
          "base_uri": "https://localhost:8080/"
        },
        "id": "CYcWLLO_5PLo",
        "outputId": "63e1448a-66df-4d84-e495-f6a4cd0c041d"
      },
      "execution_count": 6,
      "outputs": [
        {
          "output_type": "stream",
          "name": "stdout",
          "text": [
            "E\n",
            "m\n",
            "m\n",
            "a\n",
            "n\n",
            "u\n",
            "e\n",
            "l\n"
          ]
        }
      ]
    },
    {
      "cell_type": "code",
      "source": [
        "# Type a code inside the for loop so that counter variable named c\n",
        "# is increased by one each time loop iterates. \n",
        "# Can you guess how many times it will add 1?\n",
        "\n",
        "c=0\n",
        "s='Emmanuel'\n",
        "for i in s:\n",
        "  c=c+1\n",
        "  print(c)"
      ],
      "metadata": {
        "colab": {
          "base_uri": "https://localhost:8080/"
        },
        "id": "h3H8l13Q57IQ",
        "outputId": "ff5da4bd-bda5-462b-cd3f-c2b21fb8ea5a"
      },
      "execution_count": 10,
      "outputs": [
        {
          "output_type": "stream",
          "name": "stdout",
          "text": [
            "1\n",
            "2\n",
            "3\n",
            "4\n",
            "5\n",
            "6\n",
            "7\n",
            "8\n"
          ]
        }
      ]
    },
    {
      "cell_type": "code",
      "source": [
        "# Using a for loop and .append() method append each item with a Dr. prefix to the lst.\n",
        "c=[]\n",
        "l=['emmanuel','simon','ironman','superman']\n",
        "for i in l:\n",
        "  c.append('Dr.'+i)\n",
        "print(c)"
      ],
      "metadata": {
        "colab": {
          "base_uri": "https://localhost:8080/"
        },
        "id": "_kw2XJQY6iZF",
        "outputId": "ad5f82bb-58e0-40ed-d80e-4de3e5bf0382"
      },
      "execution_count": 12,
      "outputs": [
        {
          "output_type": "stream",
          "name": "stdout",
          "text": [
            "['Dr.emmanuel', 'Dr.simon', 'Dr.ironman', 'Dr.superman']\n"
          ]
        }
      ]
    },
    {
      "cell_type": "code",
      "source": [
        "# Write a for loop which appends the square of each number to the new list.\n",
        "newl=[]\n",
        "l=[1,2,3,4,5]\n",
        "for i in l:\n",
        "  newl.append(i**2)\n",
        "print(newl)"
      ],
      "metadata": {
        "colab": {
          "base_uri": "https://localhost:8080/"
        },
        "id": "hYMHSwV77UUN",
        "outputId": "496588a9-7103-4229-96e9-8d6c7ba9ed03"
      },
      "execution_count": 13,
      "outputs": [
        {
          "output_type": "stream",
          "name": "stdout",
          "text": [
            "[1, 4, 9, 16, 25]\n"
          ]
        }
      ]
    },
    {
      "cell_type": "code",
      "source": [
        "# Write a for loop using an if statement, that appends each number to the new list if it's positive.\n",
        "lnew=[]\n",
        "l=[1,2,-4,-9,-8,4,5,6,10]\n",
        "for i in l:\n",
        "  if i>0:\n",
        "    lnew.append(i)\n",
        "print(lnew)"
      ],
      "metadata": {
        "colab": {
          "base_uri": "https://localhost:8080/"
        },
        "id": "IK3-5nGX7qvN",
        "outputId": "56912179-fc03-4faa-e75d-1caa681d9454"
      },
      "execution_count": 14,
      "outputs": [
        {
          "output_type": "stream",
          "name": "stdout",
          "text": [
            "[1, 2, 4, 5, 6, 10]\n"
          ]
        }
      ]
    },
    {
      "cell_type": "code",
      "source": [
        "# Write a for loop which appends the type of each element in the first list to the second list\n",
        "lnew=[]\n",
        "l=['emmanuel', 1,3.14, 2+5j]\n",
        "for i in l:\n",
        "  lnew.append(type(i))\n",
        "print(lnew)"
      ],
      "metadata": {
        "colab": {
          "base_uri": "https://localhost:8080/"
        },
        "id": "RT_e-yZuCpDk",
        "outputId": "872e5024-c860-4b25-e1fe-5b4b05efeb68"
      },
      "execution_count": 18,
      "outputs": [
        {
          "output_type": "stream",
          "name": "stdout",
          "text": [
            "[<class 'str'>, <class 'int'>, <class 'float'>, <class 'complex'>]\n"
          ]
        }
      ]
    },
    {
      "cell_type": "code",
      "source": [
        "# Using for loop and if statement, append the value minus 1000 \n",
        "# for each key to the new list if the value is above 1000. i.e.:\n",
        "# if the value is 1500, 500 should be added to the new list.\n",
        "dict={\"z1\":20, \"t1\": 1100, \"p1\": 2300, \"r1\": 1050, \"k1\": 3200, \"g1\": 400}\n",
        "lst=[]\n",
        "for k,v in dict.items():\n",
        "  if v>1000:\n",
        "    lst.append(v-1000)\n",
        "print(lst)"
      ],
      "metadata": {
        "colab": {
          "base_uri": "https://localhost:8080/"
        },
        "id": "1aHOJg1eDWS4",
        "outputId": "7c450c72-a40a-4266-fdf0-f2b7c3ee8717"
      },
      "execution_count": 26,
      "outputs": [
        {
          "output_type": "stream",
          "name": "stdout",
          "text": [
            "[100, 1300, 50, 2200]\n"
          ]
        }
      ]
    },
    {
      "cell_type": "code",
      "source": [
        "# end"
      ],
      "metadata": {
        "id": "HK9x70rxCkT7"
      },
      "execution_count": 27,
      "outputs": []
    },
    {
      "cell_type": "code",
      "source": [
        ""
      ],
      "metadata": {
        "id": "pf33CvcFLfEF"
      },
      "execution_count": null,
      "outputs": []
    }
  ]
}